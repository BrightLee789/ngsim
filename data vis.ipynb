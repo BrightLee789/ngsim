{
 "cells": [
  {
   "cell_type": "code",
   "execution_count": 1,
   "metadata": {},
   "outputs": [],
   "source": [
    "import numpy as np\n",
    "import pandas as pd\n",
    "import matplotlib.pyplot as plt\n",
    "from matplotlib import animation\n",
    "import matplotlib.patches as patches\n",
    "import math\n",
    "import time\n",
    "%matplotlib inline"
   ]
  },
  {
   "cell_type": "code",
   "execution_count": 2,
   "metadata": {},
   "outputs": [],
   "source": [
    "filepath = 'trajectories-0400-0415.csv'\n",
    "data = pd.read_csv(filepath)"
   ]
  },
  {
   "cell_type": "code",
   "execution_count": 9,
   "metadata": {},
   "outputs": [],
   "source": [
    "data_cut = data[['Vehicle_ID', 'Frame_ID', 'Local_X', 'Local_Y','Lane_ID', 'v_Length', 'v_Width', 'Angle']]\n",
    "sorted_frame = data_cut.sort_values(by=['Frame_ID'])\n",
    "sorted_np = sorted_frame.values\n",
    "sorted_np = sorted_np[20000:50000,:]         # Omit data upto 100*1000ms = 100s\n",
    "sorted_id = data_cut.values    # sort by vehicle id\n",
    "\n",
    "# init array of sliced values, by frame number\n",
    "sliced = []\n",
    "\n",
    "# slice data by frame number\n",
    "for i in range(int(min(sorted_np[:,1])),int(max(sorted_np[:,1]))):\n",
    "    sliced.append(sorted_np[sorted_np[:,1]==i])\n"
   ]
  },
  {
   "cell_type": "code",
   "execution_count": 7,
   "metadata": {},
   "outputs": [],
   "source": [
    "def updateVel(x,y,theta,vel):\n",
    "    if (y < 40):\n",
    "        theta = 5\n",
    "    else:\n",
    "        theta =  0\n",
    "    vel = vel\n",
    "    theta = theta\n",
    "    return vel, theta"
   ]
  },
  {
   "cell_type": "code",
   "execution_count": 10,
   "metadata": {},
   "outputs": [
    {
     "data": {
      "text/plain": [
       "array([[1.00000000e+00, 1.20000000e+01, 1.68840000e+01, ...,\n",
       "        1.43000000e+01, 6.40000000e+00, 2.47363964e+00],\n",
       "       [1.00000000e+00, 1.30000000e+01, 1.69380000e+01, ...,\n",
       "        1.43000000e+01, 6.40000000e+00, 2.42982837e+00],\n",
       "       [1.00000000e+00, 1.40000000e+01, 1.69910000e+01, ...,\n",
       "        1.43000000e+01, 6.40000000e+00, 2.47166476e+00],\n",
       "       ...,\n",
       "       [2.91100000e+03, 8.59000000e+03, 5.37460000e+01, ...,\n",
       "        1.49000000e+01, 5.90000000e+00, 4.76689887e-01],\n",
       "       [2.91100000e+03, 8.59100000e+03, 5.37720000e+01, ...,\n",
       "        1.49000000e+01, 5.90000000e+00, 4.92501734e-01],\n",
       "       [2.91100000e+03, 8.59200000e+03, 5.37990000e+01, ...,\n",
       "        1.49000000e+01, 5.90000000e+00,            nan]])"
      ]
     },
     "execution_count": 10,
     "metadata": {},
     "output_type": "execute_result"
    }
   ],
   "source": []
  },
  {
   "cell_type": "code",
   "execution_count": 8,
   "metadata": {},
   "outputs": [
    {
     "name": "stderr",
     "output_type": "stream",
     "text": [
      "C:\\Users\\dongwan123\\AppData\\Local\\Continuum\\anaconda3\\lib\\site-packages\\matplotlib\\patches.py:91: UserWarning: Setting the 'color' property will overridethe edgecolor or facecolor properties. \n",
      "  warnings.warn(\"Setting the 'color' property will override\"\n"
     ]
    },
    {
     "name": "stdout",
     "output_type": "stream",
     "text": [
      "334.0\n"
     ]
    },
    {
     "data": {
      "image/png": "[encoded data removed]",
      "text/plain": [
       "<matplotlib.figure.Figure at 0x2ce874a4668>"
      ]
     },
     "metadata": {},
     "output_type": "display_data"
    }
   ],
   "source": [
    "# set figure size\n",
    "fig = plt.figure(figsize=(18,3))\n",
    "#ax = fig.add_axes([0,0,1,1],frameon=False)\n",
    "# ax = fig.add_subplot(2,1,2)\n",
    "\n",
    "#add subplot\n",
    "ax1 = fig.add_subplot(1,1,1)\n",
    "count = 0\n",
    "myvehicle_x_pos = 330\n",
    "myvehicle_y_pos = 42\n",
    "myvehicle_vel = 40\n",
    "myvehicle_theta = 0\n",
    "# Animation function\n",
    "\n",
    "def animate(i):\n",
    "    global count; global myvehicle_x_pos; global myvehicle_vel; global myvehicle_y_pos; global myvehicle_theta\n",
    "\n",
    "    timestep = 0.1\n",
    "\n",
    "    # update vehicle velocity and theta\n",
    "    myvehicle_vel, myvehicle_theta = updateVel(myvehicle_x_pos, myvehicle_y_pos, myvehicle_theta, myvehicle_vel)\n",
    "    myvehicle_x_pos = timestep * math.cos(math.radians(myvehicle_theta))*myvehicle_vel + myvehicle_x_pos\n",
    "    myvehicle_y_pos = timestep * math.sin(math.radians(myvehicle_theta)) * myvehicle_vel + myvehicle_y_pos\n",
    "    # Slice relevant information by frame number\n",
    "    x = sliced[i][:,2]\n",
    "    y = sliced[i][:,3]\n",
    "    names = sliced[i][:,0]\n",
    "    lane_label = sliced[i][:,4]\n",
    "    vehicle_length = sliced[i][:,5]\n",
    "    vehicle_width = sliced[i][:,6]\n",
    "\n",
    "    # ax.clear()\n",
    "    ax1.clear()\n",
    "    plt.axhline(y=12, color='white', linestyle = '--')\n",
    "    plt.axhline(y=24, color='white', linestyle = '--')\n",
    "    plt.axhline(y=36, color='white', linestyle = '--')\n",
    "    plt.axhline(y=48, color='white', linestyle = '--')\n",
    "    plt.axhline(y=60, color='white', linestyle = '--')\n",
    "    plt.axhline(y=72, color='white', linestyle = '--')\n",
    "    #ax.imshow(img, extent = [-300,300,0,1500])\n",
    "    # ax.set_autoscaley_on(False)\n",
    "    # ax.set_autoscalex_on(False)\n",
    "    # ax.set_xlim([200,330])\n",
    "    # ax.set_ylim([0,100])\n",
    "    # ax.scatter(y,x, s = 10)\n",
    "\n",
    "    # set autoscale off, set x,y axis\n",
    "    ax1.set_autoscaley_on(False)\n",
    "    ax1.set_autoscalex_on(False)\n",
    "    ax1.set_xlim([200,740])\n",
    "    ax1.set_ylim([0,80])\n",
    "    ax1.set_facecolor('gray')\n",
    "    # ax1.scatter(y,x,s=10)\n",
    "    patches = []\n",
    "    patches1 = []\n",
    "    lane_color = [\"white\", \"red\", \"orange\", \"yellow\", \"green\", \"blue\", \"black\", \"pink\"]\n",
    "    # ax1.scatter(y,x, s = 50, marker = \"s\")\n",
    "\n",
    "    # unzip by category, create rectangle for each car by frame\n",
    "    for x_cent, y_cent, lane, vlength, vwidth in zip(x,y,lane_label,vehicle_length, vehicle_width):\n",
    "        # print(x_cent, y_cent)\n",
    "        vlen = vlength*0.75\n",
    "        vwid = vwidth*0.75\n",
    "        # colored vehicles\n",
    "        # patches.append(ax1.add_patch(plt.Rectangle((y_cent-vlen/2, x_cent-vwid/2), vlen, vwid,\n",
    "        #                 fill=True, angle=0, linewidth = 2, edgecolor = lane_color[int(lane)], color = lane_color[int(lane)])))\n",
    "\n",
    "        patches.append(ax1.add_patch(plt.Rectangle((y_cent-vlen/2, x_cent-vwid/2), vlen, vwid,\n",
    "                        fill=True, angle=0, linewidth = 2, edgecolor = lane_color[int(lane)], color = 'k')))\n",
    "\n",
    "        #patches1.append(ax.add_patch(plt.Rectangle((y_cent, x_cent), 3, 2, fill=False, edgecolor=\"blue\",label=lane_label)))\n",
    "    # for i, txt in enumerate(names):\n",
    "    #      ax1.annotate(int(txt), (int(y[i]),int(x[i])), fontsize=10)\n",
    "    # if i%2==0:\n",
    "    #     return patches\n",
    "    # else:\n",
    "    #     return patches1\n",
    "    patches.append(ax1.add_patch(plt.Rectangle((myvehicle_x_pos,myvehicle_y_pos), 8, 4, fill=True,\n",
    "                        angle = myvehicle_theta, color = 'red' )))\n",
    "    count = count +1\n",
    "    print(myvehicle_x_pos)\n",
    "    time.sleep(0.5)\n",
    "    return patches\n",
    "\n",
    "\n",
    "# Animate at interval of 100ms\n",
    "ani = animation.FuncAnimation(fig, animate, frames = range(2,30000), interval=100, blit=True)\n",
    "#ani.save('video.mp4')\n",
    "\n",
    "\n",
    "plt.show()\n"
   ]
  },
  {
   "cell_type": "code",
   "execution_count": null,
   "metadata": {},
   "outputs": [],
   "source": []
  }
 ],
 "metadata": {
  "kernelspec": {
   "display_name": "Python 3",
   "language": "python",
   "name": "python3"
  },
  "language_info": {
   "codemirror_mode": {
    "name": "ipython",
    "version": 3
   },
   "file_extension": ".py",
   "mimetype": "text/x-python",
   "name": "python",
   "nbconvert_exporter": "python",
   "pygments_lexer": "ipython3",
   "version": "3.6.4"
  }
 },
 "nbformat": 4,
 "nbformat_minor": 2
}
