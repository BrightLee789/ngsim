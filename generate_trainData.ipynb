{
 "cells": [
  {
   "cell_type": "code",
   "execution_count": 1,
   "metadata": {},
   "outputs": [],
   "source": [
    "import numpy as np\n",
    "import pandas as pd\n",
    "import math\n",
    "import matplotlib.pyplot as plt\n",
    "%matplotlib inline\n",
    "\n",
    "# Read CSV through Pandas\n",
    "filepath = './train_data/features-0400-0415.csv'\n",
    "data = pd.read_csv(filepath)"
   ]
  },
  {
   "cell_type": "code",
   "execution_count": 2,
   "metadata": {},
   "outputs": [],
   "source": [
    "# Leave data with the following headings only\n",
    "data = data[['vehicle_id', 'lane', 'frame', 'x_position', 'y_position', 'theta',\n",
    "        'velocity', 'd0', 'd1', 'd2', 'd3', 'd4', 'd5', 'd6', 'v1', 'v2', 'v3', 'v4', 'v5', 'v6']]\n",
    "data_np = data.values.astype(np.float32)        # convert to numpy"
   ]
  },
  {
   "cell_type": "code",
   "execution_count": 3,
   "metadata": {},
   "outputs": [
    {
     "name": "stdout",
     "output_type": "stream",
     "text": [
      "car_id: 0/1725\n",
      "car_id: 50/1725\n",
      "car_id: 100/1725\n",
      "car_id: 150/1725\n",
      "car_id: 200/1725\n",
      "car_id: 250/1725\n",
      "car_id: 300/1725\n",
      "car_id: 350/1725\n",
      "car_id: 400/1725\n",
      "car_id: 450/1725\n",
      "car_id: 500/1725\n",
      "car_id: 550/1725\n",
      "car_id: 600/1725\n",
      "car_id: 650/1725\n",
      "car_id: 700/1725\n",
      "car_id: 750/1725\n",
      "car_id: 800/1725\n",
      "car_id: 850/1725\n",
      "car_id: 900/1725\n",
      "car_id: 950/1725\n",
      "car_id: 1000/1725\n",
      "car_id: 1050/1725\n",
      "car_id: 1100/1725\n",
      "car_id: 1150/1725\n",
      "car_id: 1200/1725\n",
      "car_id: 1250/1725\n",
      "car_id: 1300/1725\n",
      "car_id: 1350/1725\n",
      "car_id: 1400/1725\n",
      "car_id: 1450/1725\n",
      "car_id: 1500/1725\n",
      "car_id: 1550/1725\n",
      "car_id: 1600/1725\n",
      "car_id: 1650/1725\n",
      "car_id: 1700/1725\n"
     ]
    }
   ],
   "source": [
    "# Number of data\n",
    "num_data = data_np.shape[0]\n",
    "\n",
    "# Get unique car-id\n",
    "car_id_unique = np.unique(data_np[:,0])\n",
    "num_car_unique = car_id_unique.shape[0]\n",
    "\n",
    "# Traj parameters\n",
    "H_prev = 15\n",
    "H_post = 15\n",
    "Hmin_prev = 7;\n",
    "Hmin_post = 7;\n",
    "\n",
    "indexes_info = np.array([0,1,2]) # indexes of info : 'vehicle_id', 'lane', 'frame'\n",
    "dim_info = indexes_info.shape[0] # dimension of info\n",
    "indexes_p = np.array([3,4,5])    # indexes of position\n",
    "dim_p = indexes_p.shape[0]       # dimension of position\n",
    "indexes_f = np.array([7,8,9,10,11,12,13])  # indexes of feature\n",
    "dim_f = indexes_f.shape[0]       # dimension of features\n",
    "\n",
    "info_data = np.zeros((num_data,dim_info))\n",
    "p_data = np.zeros((num_data,dim_p))\n",
    "f_data = np.zeros((num_data,dim_f))\n",
    "prevTraj_data = np.zeros((num_data,dim_p*H_prev))\n",
    "postTraj_data = np.zeros((num_data,dim_p*H_post))\n",
    "cnt_data = 0\n",
    "\n",
    "display_interval = 50\n",
    "\n",
    "for nidx_i in range(0,num_car_unique):\n",
    "    if(nidx_i % display_interval == 0):\n",
    "        print(\"car_id: {:d}/{:d}\".format(nidx_i,num_car_unique))\n",
    "    \n",
    "    idx_found = np.where( data_np[:,0] == nidx_i )\n",
    "    len_idx_found = idx_found[0].shape[0]\n",
    "    data_np_found = data_np[idx_found[0],:]\n",
    "    if(len_idx_found > (Hmin_prev + Hmin_post)):\n",
    "        for nidx_t in range(Hmin_prev,(len_idx_found-Hmin_post)):\n",
    "            info_cur_init = data_np_found[nidx_t,indexes_info]\n",
    "            p_cur_init = data_np_found[nidx_t,indexes_p]\n",
    "            f_cur_init = data_np_found[nidx_t,indexes_f]\n",
    "            \n",
    "            # Set prev-trajectory\n",
    "            prevTraj_tmp = np.zeros((dim_p,H_prev))\n",
    "            H_prev_tmp = np.min([H_prev,nidx_t])\n",
    "            cnt_prev_tmp = 0\n",
    "            p_cur = p_cur_init\n",
    "            for nidx_tt in range(1,H_prev_tmp+1):\n",
    "                p_next = data_np_found[nidx_t-nidx_tt,indexes_p]\n",
    "                cnt_prev_tmp = cnt_prev_tmp + 1\n",
    "                prevTraj_tmp[:,cnt_prev_tmp-1] = p_next - p_cur\n",
    "                p_cur = p_next\n",
    "                \n",
    "            if(cnt_prev_tmp < H_prev):\n",
    "                remain_tmp = H_prev - cnt_prev_tmp\n",
    "                indexes_remain = range(cnt_prev_tmp,H_prev)\n",
    "                prev_Traj_tmp_last = np.reshape(prevTraj_tmp[:,cnt_prev_tmp-1],(dim_p,1))\n",
    "                prevTraj_tmp[:,indexes_remain] = np.tile(prev_Traj_tmp_last,(1,remain_tmp))\n",
    "                \n",
    "            prevTraj_tmp_vector = np.reshape(prevTraj_tmp,H_prev*dim_p)\n",
    "            \n",
    "            # Set post-trajectory\n",
    "            postTraj_tmp = np.zeros((dim_p,H_post))\n",
    "            H_post_tmp = np.min([H_post,(len_idx_found-nidx_t-1)])\n",
    "            cnt_post_tmp = 0\n",
    "            p_cur = p_cur_init\n",
    "            for nidx_tt in range(1,H_post_tmp+1):\n",
    "                p_next = data_np_found[nidx_t+nidx_tt,indexes_p]\n",
    "                cnt_post_tmp = cnt_post_tmp + 1\n",
    "                postTraj_tmp[:,cnt_post_tmp-1] = p_next - p_cur\n",
    "                p_cur = p_next\n",
    "                \n",
    "            if(cnt_post_tmp < H_post):\n",
    "                remain_tmp = H_post - cnt_post_tmp\n",
    "                indexes_remain = range(cnt_post_tmp,H_post)\n",
    "                post_Traj_tmp_last = np.reshape(postTraj_tmp[:,cnt_post_tmp-1],(dim_p,1))\n",
    "                postTraj_tmp[:,indexes_remain] = np.tile(post_Traj_tmp_last,(1,remain_tmp))\n",
    "                \n",
    "            postTraj_tmp_vector = np.reshape(postTraj_tmp,H_post*dim_p)\n",
    "            \n",
    "            # Update 'data'\n",
    "            cnt_data = cnt_data + 1\n",
    "            info_data[cnt_data-1,:] = info_cur_init\n",
    "            p_data[cnt_data-1,:] = p_cur_init\n",
    "            f_data[cnt_data-1,:] = f_cur_init\n",
    "            prevTraj_data[cnt_data-1,:] = prevTraj_tmp_vector\n",
    "            postTraj_data[cnt_data-1,:] = postTraj_tmp_vector\n",
    "\n",
    "info_data = info_data[range(0,cnt_data),:]\n",
    "p_data = p_data[range(0,cnt_data),:]\n",
    "f_data = f_data[range(0,cnt_data),:]\n",
    "prevTraj_data = prevTraj_data[range(0,cnt_data),:]\n",
    "postTraj_data = postTraj_data[range(0,cnt_data),:]"
   ]
  },
  {
   "cell_type": "code",
   "execution_count": 4,
   "metadata": {},
   "outputs": [],
   "source": [
    "# Save data\n",
    "import scipy\n",
    "import scipy.io as sio\n",
    "\n",
    "filename2save = \"trainData_i80.mat\"\n",
    "sio.savemat(filename2save, {'info_data':info_data,'p_data':p_data,'f_data':f_data,'prevTraj_data':prevTraj_data,'postTraj_data':postTraj_data,})"
   ]
  },
  {
   "cell_type": "code",
   "execution_count": 10,
   "metadata": {},
   "outputs": [
    {
     "data": {
      "image/png": "[encoded data removed]",
      "text/plain": [
       "<matplotlib.figure.Figure at 0x7f6d0c069128>"
      ]
     },
     "metadata": {},
     "output_type": "display_data"
    }
   ],
   "source": [
    "plt.plot(p_data[range(0,1000),0],p_data[range(0,1000),1],'.')\n",
    "#plt.axis('equal')\n",
    "plt.show()"
   ]
  }
 ],
 "metadata": {
  "kernelspec": {
   "display_name": "Python 3",
   "language": "python",
   "name": "python3"
  },
  "language_info": {
   "codemirror_mode": {
    "name": "ipython",
    "version": 3
   },
   "file_extension": ".py",
   "mimetype": "text/x-python",
   "name": "python",
   "nbconvert_exporter": "python",
   "pygments_lexer": "ipython3",
   "version": "3.6.4"
  }
 },
 "nbformat": 4,
 "nbformat_minor": 2
}
